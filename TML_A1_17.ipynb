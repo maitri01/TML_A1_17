{
  "nbformat": 4,
  "nbformat_minor": 0,
  "metadata": {
    "colab": {
      "provenance": []
    },
    "kernelspec": {
      "name": "python3",
      "display_name": "Python 3"
    },
    "language_info": {
      "name": "python"
    }
  },
  "cells": [
    {
      "cell_type": "markdown",
      "source": [
        "# Setup"
      ],
      "metadata": {
        "id": "77SJz_Pmhkgz"
      }
    },
    {
      "cell_type": "code",
      "source": [
        "!pip install torch torchvision pandas scikit-learn requests -q gdown\n"
      ],
      "metadata": {
        "id": "3sI7YHqUxu-B",
        "colab": {
          "base_uri": "https://localhost:8080/"
        },
        "outputId": "10415769-88d9-4191-9e05-b445404b7831"
      },
      "execution_count": 1,
      "outputs": [
        {
          "output_type": "stream",
          "name": "stdout",
          "text": [
            "\u001b[2K   \u001b[90m━━━━━━━━━━━━━━━━━━━━━━━━━━━━━━━━━━━━━━━━\u001b[0m \u001b[32m363.4/363.4 MB\u001b[0m \u001b[31m3.0 MB/s\u001b[0m eta \u001b[36m0:00:00\u001b[0m\n",
            "\u001b[2K   \u001b[90m━━━━━━━━━━━━━━━━━━━━━━━━━━━━━━━━━━━━━━━━\u001b[0m \u001b[32m13.8/13.8 MB\u001b[0m \u001b[31m13.4 MB/s\u001b[0m eta \u001b[36m0:00:00\u001b[0m\n",
            "\u001b[2K   \u001b[90m━━━━━━━━━━━━━━━━━━━━━━━━━━━━━━━━━━━━━━━━\u001b[0m \u001b[32m24.6/24.6 MB\u001b[0m \u001b[31m19.3 MB/s\u001b[0m eta \u001b[36m0:00:00\u001b[0m\n",
            "\u001b[2K   \u001b[90m━━━━━━━━━━━━━━━━━━━━━━━━━━━━━━━━━━━━━━━━\u001b[0m \u001b[32m883.7/883.7 kB\u001b[0m \u001b[31m18.0 MB/s\u001b[0m eta \u001b[36m0:00:00\u001b[0m\n",
            "\u001b[2K   \u001b[90m━━━━━━━━━━━━━━━━━━━━━━━━━━━━━━━━━━━━━━━━\u001b[0m \u001b[32m664.8/664.8 MB\u001b[0m \u001b[31m2.8 MB/s\u001b[0m eta \u001b[36m0:00:00\u001b[0m\n",
            "\u001b[2K   \u001b[90m━━━━━━━━━━━━━━━━━━━━━━━━━━━━━━━━━━━━━━━━\u001b[0m \u001b[32m211.5/211.5 MB\u001b[0m \u001b[31m5.9 MB/s\u001b[0m eta \u001b[36m0:00:00\u001b[0m\n",
            "\u001b[2K   \u001b[90m━━━━━━━━━━━━━━━━━━━━━━━━━━━━━━━━━━━━━━━━\u001b[0m \u001b[32m56.3/56.3 MB\u001b[0m \u001b[31m9.1 MB/s\u001b[0m eta \u001b[36m0:00:00\u001b[0m\n",
            "\u001b[2K   \u001b[90m━━━━━━━━━━━━━━━━━━━━━━━━━━━━━━━━━━━━━━━━\u001b[0m \u001b[32m127.9/127.9 MB\u001b[0m \u001b[31m6.3 MB/s\u001b[0m eta \u001b[36m0:00:00\u001b[0m\n",
            "\u001b[2K   \u001b[90m━━━━━━━━━━━━━━━━━━━━━━━━━━━━━━━━━━━━━━━━\u001b[0m \u001b[32m207.5/207.5 MB\u001b[0m \u001b[31m4.8 MB/s\u001b[0m eta \u001b[36m0:00:00\u001b[0m\n",
            "\u001b[2K   \u001b[90m━━━━━━━━━━━━━━━━━━━━━━━━━━━━━━━━━━━━━━━━\u001b[0m \u001b[32m21.1/21.1 MB\u001b[0m \u001b[31m17.8 MB/s\u001b[0m eta \u001b[36m0:00:00\u001b[0m\n",
            "\u001b[?25h"
          ]
        }
      ]
    },
    {
      "cell_type": "code",
      "source": [
        "import gdown\n",
        "import os\n",
        "import torch\n",
        "import sys\n",
        "from torchvision import transforms\n",
        "import torch.nn.functional as F\n",
        "import pandas as pd\n",
        "import matplotlib.pyplot as plt\n",
        "import numpy as np\n",
        "from torch import nn\n",
        "from torchvision.models import resnet18\n",
        "from sklearn.metrics.pairwise import cosine_similarity\n",
        "from sklearn.decomposition import PCA\n",
        "from sklearn.preprocessing import MinMaxScaler\n",
        "from xgboost import XGBClassifier\n",
        "import random\n",
        "from sklearn.metrics import roc_curve, roc_auc_score"
      ],
      "metadata": {
        "id": "pjCr43sFHyiS"
      },
      "execution_count": 2,
      "outputs": []
    },
    {
      "cell_type": "code",
      "source": [
        "os.makedirs(\"TML_A1_21\")"
      ],
      "metadata": {
        "id": "DRVCkZuyoYB3"
      },
      "execution_count": 3,
      "outputs": []
    },
    {
      "cell_type": "code",
      "source": [
        "%cd TML_A1_21"
      ],
      "metadata": {
        "id": "uJgHlNv60BRf",
        "colab": {
          "base_uri": "https://localhost:8080/"
        },
        "outputId": "f01ed623-4136-4a1c-dc66-2ed59b0bcef2"
      },
      "execution_count": 4,
      "outputs": [
        {
          "output_type": "stream",
          "name": "stdout",
          "text": [
            "/content/TML_A1_21\n"
          ]
        }
      ]
    },
    {
      "cell_type": "code",
      "source": [
        "file_id = \"1b71CfqYznX7pZi43iyUU-o636BgJvfnP\"\n",
        "gdown.download(f\"https://drive.google.com/uc?id={file_id}\", \"01_MIA.pt\", quiet=False)"
      ],
      "metadata": {
        "id": "HIoP5rPPnM93",
        "colab": {
          "base_uri": "https://localhost:8080/",
          "height": 122
        },
        "outputId": "62a3b6b5-bc13-4d2e-81e6-fb15e4856de3"
      },
      "execution_count": 5,
      "outputs": [
        {
          "output_type": "stream",
          "name": "stderr",
          "text": [
            "Downloading...\n",
            "From (original): https://drive.google.com/uc?id=1b71CfqYznX7pZi43iyUU-o636BgJvfnP\n",
            "From (redirected): https://drive.google.com/uc?id=1b71CfqYznX7pZi43iyUU-o636BgJvfnP&confirm=t&uuid=e77a2364-cc5a-4d4d-948e-31009ae3f2ae\n",
            "To: /content/TML_A1_21/01_MIA.pt\n",
            "100%|██████████| 44.9M/44.9M [00:01<00:00, 31.8MB/s]\n"
          ]
        },
        {
          "output_type": "execute_result",
          "data": {
            "text/plain": [
              "'01_MIA.pt'"
            ],
            "application/vnd.google.colaboratory.intrinsic+json": {
              "type": "string"
            }
          },
          "metadata": {},
          "execution_count": 5
        }
      ]
    },
    {
      "cell_type": "code",
      "source": [
        "file_id = \"109AFYCmB2UvaARzyNy0h_6k_b-RjdSnR\"\n",
        "gdown.download(f\"https://drive.google.com/uc?id={file_id}\", \"pub.pt\", quiet=False)"
      ],
      "metadata": {
        "id": "uGe5-BsCnou4",
        "colab": {
          "base_uri": "https://localhost:8080/",
          "height": 122
        },
        "outputId": "323686ca-d2ef-400e-efbb-60ba899304ef"
      },
      "execution_count": 6,
      "outputs": [
        {
          "output_type": "stream",
          "name": "stderr",
          "text": [
            "Downloading...\n",
            "From (original): https://drive.google.com/uc?id=109AFYCmB2UvaARzyNy0h_6k_b-RjdSnR\n",
            "From (redirected): https://drive.google.com/uc?id=109AFYCmB2UvaARzyNy0h_6k_b-RjdSnR&confirm=t&uuid=572c7837-2ff2-4735-aced-a17b7b929ac5\n",
            "To: /content/TML_A1_21/pub.pt\n",
            "100%|██████████| 250M/250M [00:03<00:00, 73.7MB/s]\n"
          ]
        },
        {
          "output_type": "execute_result",
          "data": {
            "text/plain": [
              "'pub.pt'"
            ],
            "application/vnd.google.colaboratory.intrinsic+json": {
              "type": "string"
            }
          },
          "metadata": {},
          "execution_count": 6
        }
      ]
    },
    {
      "cell_type": "code",
      "source": [
        "file_id = \"17azGFka5zDysFCGwlK5h52FrNmrpLqJM\"  # replace with your real file ID\n",
        "gdown.download(f\"https://drive.google.com/uc?id={file_id}\", \"priv_out.pt\", quiet=False)"
      ],
      "metadata": {
        "id": "tlCQ4F2yno6_",
        "colab": {
          "base_uri": "https://localhost:8080/",
          "height": 122
        },
        "outputId": "db1f3351-13c9-46ee-a3cf-fa25db02ad0b"
      },
      "execution_count": 7,
      "outputs": [
        {
          "output_type": "stream",
          "name": "stderr",
          "text": [
            "Downloading...\n",
            "From (original): https://drive.google.com/uc?id=17azGFka5zDysFCGwlK5h52FrNmrpLqJM\n",
            "From (redirected): https://drive.google.com/uc?id=17azGFka5zDysFCGwlK5h52FrNmrpLqJM&confirm=t&uuid=78fe8e74-470b-4aea-ac3a-66bc0fb623cd\n",
            "To: /content/TML_A1_21/priv_out.pt\n",
            "100%|██████████| 251M/251M [00:02<00:00, 115MB/s]\n"
          ]
        },
        {
          "output_type": "execute_result",
          "data": {
            "text/plain": [
              "'priv_out.pt'"
            ],
            "application/vnd.google.colaboratory.intrinsic+json": {
              "type": "string"
            }
          },
          "metadata": {},
          "execution_count": 7
        }
      ]
    },
    {
      "cell_type": "code",
      "source": [
        "!ls"
      ],
      "metadata": {
        "id": "vure08Jv0GfO",
        "colab": {
          "base_uri": "https://localhost:8080/"
        },
        "outputId": "2d6567fd-2bd7-4b45-ea68-9c677970998f"
      },
      "execution_count": 8,
      "outputs": [
        {
          "output_type": "stream",
          "name": "stdout",
          "text": [
            "01_MIA.pt  priv_out.pt\tpub.pt\n"
          ]
        }
      ]
    },
    {
      "cell_type": "markdown",
      "source": [
        "### assignment1_template.py - File copied here"
      ],
      "metadata": {
        "id": "Uz6tDX5fhxx2"
      }
    },
    {
      "cell_type": "code",
      "source": [
        "import torch\n",
        "from torch.utils.data import Dataset\n",
        "from typing import Tuple\n",
        "import numpy as np\n",
        "import requests\n",
        "import pandas as pd\n",
        "\n",
        "#### LOADING THE MODEL\n",
        "\n",
        "from torchvision.models import resnet18\n",
        "\n",
        "### Add this as a transofrmation to pre-process the images\n",
        "mean = [0.2980, 0.2962, 0.2987]\n",
        "std = [0.2886, 0.2875, 0.2889]\n",
        "\n",
        "model = resnet18(pretrained=False)\n",
        "model.fc = torch.nn.Linear(512, 44)\n",
        "\n",
        "ckpt = torch.load(\"./01_MIA.pt\", map_location=\"cpu\")\n",
        "\n",
        "model.load_state_dict(ckpt)\n",
        "\n",
        "#### DATASETS\n",
        "\n",
        "class TaskDataset(Dataset):\n",
        "    def __init__(self, transform=None):\n",
        "\n",
        "        self.ids = []\n",
        "        self.imgs = []\n",
        "        self.labels = []\n",
        "\n",
        "        self.transform = transform\n",
        "\n",
        "    def __getitem__(self, index) -> Tuple[int, torch.Tensor, int]:\n",
        "        id_ = self.ids[index]\n",
        "        img = self.imgs[index]\n",
        "        if not self.transform is None:\n",
        "            img = self.transform(img)\n",
        "        label = self.labels[index]\n",
        "        return id_, img, label\n",
        "\n",
        "    def __len__(self):\n",
        "        return len(self.ids)\n",
        "\n",
        "\n",
        "class MembershipDataset(TaskDataset):\n",
        "    def __init__(self, transform=None):\n",
        "        super().__init__(transform)\n",
        "        self.membership = []\n",
        "\n",
        "    def __getitem__(self, index) -> Tuple[int, torch.Tensor, int, int]:\n",
        "        id_, img, label = super().__getitem__(index)\n",
        "        return id_, img, label, self.membership[index]\n",
        "\n",
        "import torch.serialization\n",
        "torch.serialization.add_safe_globals({'MembershipDataset': MembershipDataset})\n",
        "torch.serialization.add_safe_globals({'TaskDataset': TaskDataset})\n",
        "\n",
        "# Load the data again\n",
        "data: MembershipDataset = torch.load(\"priv_out.pt\", weights_only=False, map_location='cpu')"
      ],
      "metadata": {
        "id": "SUQdPT0A1HKx",
        "colab": {
          "base_uri": "https://localhost:8080/"
        },
        "outputId": "2ec13a72-5869-4ae5-ddd0-d4678021a127"
      },
      "execution_count": 9,
      "outputs": [
        {
          "output_type": "stream",
          "name": "stderr",
          "text": [
            "/usr/local/lib/python3.11/dist-packages/torchvision/models/_utils.py:208: UserWarning: The parameter 'pretrained' is deprecated since 0.13 and may be removed in the future, please use 'weights' instead.\n",
            "  warnings.warn(\n",
            "/usr/local/lib/python3.11/dist-packages/torchvision/models/_utils.py:223: UserWarning: Arguments other than a weight enum or `None` for 'weights' are deprecated since 0.13 and may be removed in the future. The current behavior is equivalent to passing `weights=None`.\n",
            "  warnings.warn(msg)\n"
          ]
        }
      ]
    },
    {
      "cell_type": "code",
      "source": [
        "#Load the datasets\n",
        "pub_data = torch.load(\"pub.pt\", weights_only=False)\n",
        "priv_data = torch.load(\"priv_out.pt\", weights_only=False)"
      ],
      "metadata": {
        "id": "ecL8GtWD0rlq"
      },
      "execution_count": 10,
      "outputs": []
    },
    {
      "cell_type": "code",
      "source": [
        "print(type(pub_data))\n",
        "print(dir(pub_data))"
      ],
      "metadata": {
        "id": "npXrCOzN1wA9",
        "colab": {
          "base_uri": "https://localhost:8080/"
        },
        "outputId": "75ef7f98-3251-4bbc-a35c-38e4396a6430"
      },
      "execution_count": 11,
      "outputs": [
        {
          "output_type": "stream",
          "name": "stdout",
          "text": [
            "<class '__main__.MembershipDataset'>\n",
            "['__add__', '__annotations__', '__class__', '__class_getitem__', '__delattr__', '__dict__', '__dir__', '__doc__', '__eq__', '__format__', '__ge__', '__getattribute__', '__getitem__', '__getstate__', '__gt__', '__hash__', '__init__', '__init_subclass__', '__le__', '__len__', '__lt__', '__module__', '__ne__', '__new__', '__orig_bases__', '__parameters__', '__reduce__', '__reduce_ex__', '__repr__', '__setattr__', '__sizeof__', '__slots__', '__str__', '__subclasshook__', '__weakref__', '_is_protocol', 'ids', 'imgs', 'labels', 'membership', 'transform']\n"
          ]
        }
      ]
    },
    {
      "cell_type": "code",
      "source": [
        "#Check the Data format\n",
        "sample = pub_data[1]\n",
        "print(len(sample), type(sample))\n",
        "print(\"Sample content:\", sample)"
      ],
      "metadata": {
        "id": "Ke3bHWom1y-R",
        "colab": {
          "base_uri": "https://localhost:8080/"
        },
        "outputId": "508f5bf1-62dc-4d49-93a5-9868ea2c6bf0"
      },
      "execution_count": 12,
      "outputs": [
        {
          "output_type": "stream",
          "name": "stdout",
          "text": [
            "4 <class 'tuple'>\n",
            "Sample content: (304247, tensor([[[0.0118, 0.0196, 0.0235,  ..., 0.0627, 0.0588, 0.0588],\n",
            "         [0.0157, 0.0235, 0.0275,  ..., 0.0588, 0.0549, 0.0431],\n",
            "         [0.0196, 0.0196, 0.0196,  ..., 0.0431, 0.0471, 0.0431],\n",
            "         ...,\n",
            "         [0.0118, 0.0039, 0.0078,  ..., 0.0314, 0.0353, 0.0314],\n",
            "         [0.0039, 0.0039, 0.0078,  ..., 0.0353, 0.0353, 0.0353],\n",
            "         [0.0039, 0.0078, 0.0118,  ..., 0.0431, 0.0392, 0.0431]],\n",
            "\n",
            "        [[0.0118, 0.0196, 0.0235,  ..., 0.0627, 0.0588, 0.0588],\n",
            "         [0.0157, 0.0235, 0.0275,  ..., 0.0588, 0.0549, 0.0431],\n",
            "         [0.0196, 0.0196, 0.0196,  ..., 0.0431, 0.0471, 0.0431],\n",
            "         ...,\n",
            "         [0.0118, 0.0039, 0.0078,  ..., 0.0314, 0.0353, 0.0314],\n",
            "         [0.0039, 0.0039, 0.0078,  ..., 0.0353, 0.0353, 0.0353],\n",
            "         [0.0039, 0.0078, 0.0118,  ..., 0.0431, 0.0392, 0.0431]],\n",
            "\n",
            "        [[0.0118, 0.0196, 0.0235,  ..., 0.0627, 0.0588, 0.0588],\n",
            "         [0.0157, 0.0235, 0.0275,  ..., 0.0588, 0.0549, 0.0431],\n",
            "         [0.0196, 0.0196, 0.0196,  ..., 0.0431, 0.0471, 0.0431],\n",
            "         ...,\n",
            "         [0.0118, 0.0039, 0.0078,  ..., 0.0314, 0.0353, 0.0314],\n",
            "         [0.0039, 0.0039, 0.0078,  ..., 0.0353, 0.0353, 0.0353],\n",
            "         [0.0039, 0.0078, 0.0118,  ..., 0.0431, 0.0392, 0.0431]]]), 21, 1)\n"
          ]
        }
      ]
    },
    {
      "cell_type": "code",
      "source": [
        "normalize = transforms.Normalize(mean=mean, std=std)"
      ],
      "metadata": {
        "id": "rnUUOZHr1kPJ"
      },
      "execution_count": 13,
      "outputs": []
    },
    {
      "cell_type": "code",
      "source": [
        "#TO use the last-secoond layer for internal features\n",
        "\n",
        "class FeatureExtractor(nn.Module):\n",
        "  def __init__(self, model):\n",
        "    super().__init__()\n",
        "    self.features = nn.Sequential(*list(model.children())[:-1])  # All except final fc\n",
        "    self.fc = model.fc\n",
        "\n",
        "  def forward(self, x):\n",
        "    x = self.features(x)          # (batch, 512, 1, 1)\n",
        "    x_flat = torch.flatten(x, 1)  # (batch, 512)\n",
        "    logits = self.fc(x_flat)\n",
        "    return logits, x_flat\n",
        "\n",
        "\n",
        "model = resnet18(pretrained=False)\n",
        "model.fc = torch.nn.Linear(512, 44)\n",
        "model.load_state_dict(torch.load(\"01_MIA.pt\", map_location=\"cpu\"))\n",
        "model = FeatureExtractor(model)\n",
        "model.eval()"
      ],
      "metadata": {
        "colab": {
          "base_uri": "https://localhost:8080/"
        },
        "id": "UX3rZ4rgjEj7",
        "outputId": "f281c282-0d45-4169-9520-87621f7dc746"
      },
      "execution_count": 14,
      "outputs": [
        {
          "output_type": "execute_result",
          "data": {
            "text/plain": [
              "FeatureExtractor(\n",
              "  (features): Sequential(\n",
              "    (0): Conv2d(3, 64, kernel_size=(7, 7), stride=(2, 2), padding=(3, 3), bias=False)\n",
              "    (1): BatchNorm2d(64, eps=1e-05, momentum=0.1, affine=True, track_running_stats=True)\n",
              "    (2): ReLU(inplace=True)\n",
              "    (3): MaxPool2d(kernel_size=3, stride=2, padding=1, dilation=1, ceil_mode=False)\n",
              "    (4): Sequential(\n",
              "      (0): BasicBlock(\n",
              "        (conv1): Conv2d(64, 64, kernel_size=(3, 3), stride=(1, 1), padding=(1, 1), bias=False)\n",
              "        (bn1): BatchNorm2d(64, eps=1e-05, momentum=0.1, affine=True, track_running_stats=True)\n",
              "        (relu): ReLU(inplace=True)\n",
              "        (conv2): Conv2d(64, 64, kernel_size=(3, 3), stride=(1, 1), padding=(1, 1), bias=False)\n",
              "        (bn2): BatchNorm2d(64, eps=1e-05, momentum=0.1, affine=True, track_running_stats=True)\n",
              "      )\n",
              "      (1): BasicBlock(\n",
              "        (conv1): Conv2d(64, 64, kernel_size=(3, 3), stride=(1, 1), padding=(1, 1), bias=False)\n",
              "        (bn1): BatchNorm2d(64, eps=1e-05, momentum=0.1, affine=True, track_running_stats=True)\n",
              "        (relu): ReLU(inplace=True)\n",
              "        (conv2): Conv2d(64, 64, kernel_size=(3, 3), stride=(1, 1), padding=(1, 1), bias=False)\n",
              "        (bn2): BatchNorm2d(64, eps=1e-05, momentum=0.1, affine=True, track_running_stats=True)\n",
              "      )\n",
              "    )\n",
              "    (5): Sequential(\n",
              "      (0): BasicBlock(\n",
              "        (conv1): Conv2d(64, 128, kernel_size=(3, 3), stride=(2, 2), padding=(1, 1), bias=False)\n",
              "        (bn1): BatchNorm2d(128, eps=1e-05, momentum=0.1, affine=True, track_running_stats=True)\n",
              "        (relu): ReLU(inplace=True)\n",
              "        (conv2): Conv2d(128, 128, kernel_size=(3, 3), stride=(1, 1), padding=(1, 1), bias=False)\n",
              "        (bn2): BatchNorm2d(128, eps=1e-05, momentum=0.1, affine=True, track_running_stats=True)\n",
              "        (downsample): Sequential(\n",
              "          (0): Conv2d(64, 128, kernel_size=(1, 1), stride=(2, 2), bias=False)\n",
              "          (1): BatchNorm2d(128, eps=1e-05, momentum=0.1, affine=True, track_running_stats=True)\n",
              "        )\n",
              "      )\n",
              "      (1): BasicBlock(\n",
              "        (conv1): Conv2d(128, 128, kernel_size=(3, 3), stride=(1, 1), padding=(1, 1), bias=False)\n",
              "        (bn1): BatchNorm2d(128, eps=1e-05, momentum=0.1, affine=True, track_running_stats=True)\n",
              "        (relu): ReLU(inplace=True)\n",
              "        (conv2): Conv2d(128, 128, kernel_size=(3, 3), stride=(1, 1), padding=(1, 1), bias=False)\n",
              "        (bn2): BatchNorm2d(128, eps=1e-05, momentum=0.1, affine=True, track_running_stats=True)\n",
              "      )\n",
              "    )\n",
              "    (6): Sequential(\n",
              "      (0): BasicBlock(\n",
              "        (conv1): Conv2d(128, 256, kernel_size=(3, 3), stride=(2, 2), padding=(1, 1), bias=False)\n",
              "        (bn1): BatchNorm2d(256, eps=1e-05, momentum=0.1, affine=True, track_running_stats=True)\n",
              "        (relu): ReLU(inplace=True)\n",
              "        (conv2): Conv2d(256, 256, kernel_size=(3, 3), stride=(1, 1), padding=(1, 1), bias=False)\n",
              "        (bn2): BatchNorm2d(256, eps=1e-05, momentum=0.1, affine=True, track_running_stats=True)\n",
              "        (downsample): Sequential(\n",
              "          (0): Conv2d(128, 256, kernel_size=(1, 1), stride=(2, 2), bias=False)\n",
              "          (1): BatchNorm2d(256, eps=1e-05, momentum=0.1, affine=True, track_running_stats=True)\n",
              "        )\n",
              "      )\n",
              "      (1): BasicBlock(\n",
              "        (conv1): Conv2d(256, 256, kernel_size=(3, 3), stride=(1, 1), padding=(1, 1), bias=False)\n",
              "        (bn1): BatchNorm2d(256, eps=1e-05, momentum=0.1, affine=True, track_running_stats=True)\n",
              "        (relu): ReLU(inplace=True)\n",
              "        (conv2): Conv2d(256, 256, kernel_size=(3, 3), stride=(1, 1), padding=(1, 1), bias=False)\n",
              "        (bn2): BatchNorm2d(256, eps=1e-05, momentum=0.1, affine=True, track_running_stats=True)\n",
              "      )\n",
              "    )\n",
              "    (7): Sequential(\n",
              "      (0): BasicBlock(\n",
              "        (conv1): Conv2d(256, 512, kernel_size=(3, 3), stride=(2, 2), padding=(1, 1), bias=False)\n",
              "        (bn1): BatchNorm2d(512, eps=1e-05, momentum=0.1, affine=True, track_running_stats=True)\n",
              "        (relu): ReLU(inplace=True)\n",
              "        (conv2): Conv2d(512, 512, kernel_size=(3, 3), stride=(1, 1), padding=(1, 1), bias=False)\n",
              "        (bn2): BatchNorm2d(512, eps=1e-05, momentum=0.1, affine=True, track_running_stats=True)\n",
              "        (downsample): Sequential(\n",
              "          (0): Conv2d(256, 512, kernel_size=(1, 1), stride=(2, 2), bias=False)\n",
              "          (1): BatchNorm2d(512, eps=1e-05, momentum=0.1, affine=True, track_running_stats=True)\n",
              "        )\n",
              "      )\n",
              "      (1): BasicBlock(\n",
              "        (conv1): Conv2d(512, 512, kernel_size=(3, 3), stride=(1, 1), padding=(1, 1), bias=False)\n",
              "        (bn1): BatchNorm2d(512, eps=1e-05, momentum=0.1, affine=True, track_running_stats=True)\n",
              "        (relu): ReLU(inplace=True)\n",
              "        (conv2): Conv2d(512, 512, kernel_size=(3, 3), stride=(1, 1), padding=(1, 1), bias=False)\n",
              "        (bn2): BatchNorm2d(512, eps=1e-05, momentum=0.1, affine=True, track_running_stats=True)\n",
              "      )\n",
              "    )\n",
              "    (8): AdaptiveAvgPool2d(output_size=(1, 1))\n",
              "  )\n",
              "  (fc): Linear(in_features=512, out_features=44, bias=True)\n",
              ")"
            ]
          },
          "metadata": {},
          "execution_count": 14
        }
      ]
    },
    {
      "cell_type": "code",
      "source": [
        "def extract_features(model, dataset, normalize_fn, is_private=False, member_mean_vec=None, nonmember_mean_vec=None):\n",
        "  model.eval()\n",
        "  engineered_features, deep_features, labels, ids, all_logits = [], [], [], [], []\n",
        "\n",
        "  for i in range(len(dataset)):\n",
        "    data = dataset[i]\n",
        "\n",
        "    # Use based on membership is known (public) or unknown (private)\n",
        "    if is_private:\n",
        "      id_, img, class_label = data[:3]\n",
        "      member = -1\n",
        "    else:\n",
        "      id_, img, class_label, member = data[:4]\n",
        "\n",
        "    img = normalize_fn(img).unsqueeze(0)\n",
        "    label_tensor = torch.tensor([class_label])\n",
        "\n",
        "    with torch.no_grad():\n",
        "      # Model output and deep feature embedding\n",
        "      logits, deep_feat = model(img)\n",
        "      probs = F.softmax(logits, dim=1)\n",
        "\n",
        "      # max probability\n",
        "      confidence = torch.max(probs).item()\n",
        "\n",
        "      # CE Loss\n",
        "      loss = F.cross_entropy(logits, label_tensor).item()\n",
        "\n",
        "      # Prob margin\n",
        "      margin = (probs[0].topk(2).values[0] - probs[0].topk(2).values[1]).item()\n",
        "\n",
        "      # Entropy\n",
        "      entropy = -torch.sum(probs * torch.log(probs + 1e-12)).item()\n",
        "\n",
        "      predicted_class = torch.argmax(probs, dim=1).item()\n",
        "      correct = int(predicted_class == class_label)\n",
        "\n",
        "      true_class_prob = probs[0, class_label].item()\n",
        "\n",
        "      # Rank of true class\n",
        "      class_rank = (probs[0] > true_class_prob).sum().item() + 1\n",
        "\n",
        "      # Inverse rank (RMIA score)\n",
        "      rmia_score = 1.0 / class_rank\n",
        "\n",
        "      topk_probs = torch.topk(probs[0], k=3).values\n",
        "      # Top-3 entropy\n",
        "      top3_entropy = -torch.sum(topk_probs * torch.log(topk_probs + 1e-12)).item()\n",
        "\n",
        "      top2_logits = torch.topk(logits[0], k=2).values\n",
        "      logit_margin = (top2_logits[0] - top2_logits[1]).item()\n",
        "      true_class_logit = logits[0, class_label].item()\n",
        "\n",
        "      mean_other_logits = (logits[0].sum() - true_class_logit) / (logits.size(1) - 1)\n",
        "\n",
        "      # Difference from mean of other logits\n",
        "      logit_diff_mean = true_class_logit - mean_other_logits\n",
        "\n",
        "      # Norm of logits vector\n",
        "      logits_norm = torch.norm(logits).item()\n",
        "      prob_variance = torch.var(probs).item()\n",
        "      logit_ratio = top2_logits[0].item() / (top2_logits[1].item() + 1e-6)\n",
        "\n",
        "      deep_feat_np = deep_feat.squeeze().numpy()\n",
        "      logits_np = logits.squeeze().numpy()\n",
        "\n",
        "    # Cosine similarity to member/non-member mean embeddings\n",
        "    if member_mean_vec is not None and nonmember_mean_vec is not None:\n",
        "      cos_sim_member = cosine_similarity(deep_feat_np.reshape(1, -1), member_mean_vec).item()\n",
        "      cos_sim_non = cosine_similarity(deep_feat_np.reshape(1, -1), nonmember_mean_vec).item()\n",
        "      cos_diff = cos_sim_member - cos_sim_non\n",
        "    else:\n",
        "      cos_sim_member = cos_sim_non = cos_diff = 0.0\n",
        "\n",
        "    # Combine all engineered features\n",
        "    engineered = [\n",
        "      confidence, loss, margin, entropy, correct,\n",
        "      class_rank, top3_entropy, logit_margin, true_class_logit,\n",
        "      logit_diff_mean, logits_norm, prob_variance, logit_ratio,\n",
        "      rmia_score,\n",
        "      cos_sim_member, cos_sim_non, cos_diff\n",
        "    ]\n",
        "\n",
        "    # Append to results\n",
        "    engineered_features.append(engineered)\n",
        "    deep_features.append(deep_feat_np)\n",
        "    all_logits.append(logits_np)\n",
        "    labels.append(member)\n",
        "    ids.append(id_)\n",
        "\n",
        "  return (\n",
        "      np.array(engineered_features),\n",
        "      np.array(deep_features),\n",
        "      np.array(all_logits),\n",
        "      np.array(labels),\n",
        "      ids)\n"
      ],
      "metadata": {
        "id": "wFx6mP6hGSVJ"
      },
      "execution_count": 15,
      "outputs": []
    },
    {
      "cell_type": "code",
      "source": [
        "# Extract features from the public dataset\n",
        "\n",
        "X_pub_eng, X_pub_deep, X_pub_logits, y_pub, _ = extract_features(model, pub_data, normalize, is_private=False)\n",
        "\n",
        "# Separate deep feature vectors for known members and non-members in the public dataset\n",
        "member_deep = X_pub_deep[y_pub == 1]\n",
        "nonmember_deep = X_pub_deep[y_pub == 0]\n",
        "\n",
        "mean_member_vec = member_deep.mean(axis=0, keepdims=True)\n",
        "mean_nonmember_vec = nonmember_deep.mean(axis=0, keepdims=True)"
      ],
      "metadata": {
        "id": "K4N_0L5jGY_r"
      },
      "execution_count": 16,
      "outputs": []
    },
    {
      "cell_type": "code",
      "source": [
        "# Including cosine similarity\n",
        "\n",
        "X_pub_eng, X_pub_deep, X_pub_logits, y_pub, _ = extract_features(model, pub_data, normalize, is_private=False, member_mean_vec=mean_member_vec, nonmember_mean_vec=mean_nonmember_vec)\n",
        "\n",
        "X_priv_eng, X_priv_deep, X_priv_logits, _, priv_ids = extract_features(model, priv_data, normalize, is_private=True, member_mean_vec=mean_member_vec, nonmember_mean_vec=mean_nonmember_vec)"
      ],
      "metadata": {
        "id": "rhcIPZgOGaeN"
      },
      "execution_count": 17,
      "outputs": []
    },
    {
      "cell_type": "code",
      "source": [
        "# Apply PCA to reduce the dimensionality of the deep features (from 512 to 64)\n",
        "\n",
        "pca = PCA(n_components=64, random_state=42)\n",
        "X_pub_pca = pca.fit_transform(X_pub_deep)\n",
        "X_priv_pca = pca.transform(X_priv_deep)\n",
        "\n",
        "X_pub_final = np.concatenate([X_pub_eng, X_pub_pca, X_pub_logits], axis=1)\n",
        "X_priv_final = np.concatenate([X_priv_eng, X_priv_pca, X_priv_logits], axis=1)"
      ],
      "metadata": {
        "id": "vh7EtX7rGcEl"
      },
      "execution_count": 18,
      "outputs": []
    },
    {
      "cell_type": "code",
      "source": [
        "# XGBoost classifier with tuned hyperparameters\n",
        "\n",
        "xgb_clf = XGBClassifier(\n",
        "  n_estimators=500,\n",
        "  max_depth=3,\n",
        "  learning_rate=0.03,\n",
        "  subsample=0.8,\n",
        "  colsample_bytree=0.7,\n",
        "  gamma=2,\n",
        "  reg_alpha=1,\n",
        "  reg_lambda=1,\n",
        "  eval_metric='logloss',\n",
        "  random_state=42\n",
        ")"
      ],
      "metadata": {
        "id": "YdYmOrzEDwhW"
      },
      "execution_count": 19,
      "outputs": []
    },
    {
      "cell_type": "code",
      "source": [
        "xgb_clf.fit(X_pub_final, y_pub)\n",
        "\n",
        "# Predict private scores\n",
        "membership_scores = xgb_clf.predict_proba(X_priv_final)[:, 1]\n",
        "\n",
        "# Normalize to [0, 1]\n",
        "scaler = MinMaxScaler()\n",
        "membership_scores_xgb = scaler.fit_transform(membership_scores.reshape(-1, 1)).flatten()\n"
      ],
      "metadata": {
        "id": "5ZUloYHFVRz-"
      },
      "execution_count": 20,
      "outputs": []
    },
    {
      "cell_type": "code",
      "source": [
        "# Submission\n",
        "\n",
        "df = pd.DataFrame(\n",
        "  {\n",
        "    \"ids\": data.ids,\n",
        "    \"score\": membership_scores_xgb,\n",
        "  }\n",
        ")\n",
        "df.to_csv(\"test.csv\", index=None)\n",
        "response = requests.post(\"http://34.122.51.94:9090/mia\", files={\"file\": open(\"test.csv\", \"rb\")}, headers={\"token\": \"53077688\"})\n",
        "print(response.json())\n"
      ],
      "metadata": {
        "id": "zHjojPEPVkoT",
        "colab": {
          "base_uri": "https://localhost:8080/"
        },
        "outputId": "39ef645d-a3eb-4ab3-ffb5-ebede74db2bf"
      },
      "execution_count": 21,
      "outputs": [
        {
          "output_type": "stream",
          "name": "stdout",
          "text": [
            "{'TPR@FPR=0.05': 0.13133333333333333, 'AUC': 0.6622281111111112}\n"
          ]
        }
      ]
    },
    {
      "cell_type": "code",
      "source": [
        "plt.hist(membership_scores_xgb, bins=30)\n",
        "plt.title(\"Predicted Membership Scores on Private Set\")\n",
        "plt.xlabel(\"Score\")\n",
        "plt.ylabel(\"Number of Samples\")\n",
        "plt.show()"
      ],
      "metadata": {
        "colab": {
          "base_uri": "https://localhost:8080/",
          "height": 472
        },
        "id": "aPceLrH92ZsU",
        "outputId": "90589631-65e7-4dcd-9bbc-3855cce72e57"
      },
      "execution_count": 22,
      "outputs": [
        {
          "output_type": "display_data",
          "data": {
            "text/plain": [
              "<Figure size 640x480 with 1 Axes>"
            ],
            "image/png": "[encoded data removed]"
          },
          "metadata": {}
        }
      ]
    },
    {
      "cell_type": "markdown",
      "source": [
        "##Validation"
      ],
      "metadata": {
        "id": "25ICFpzRmM5M"
      }
    },
    {
      "cell_type": "code",
      "source": [
        "# Split public data into training and validation sets\n",
        "member_indices = [i for i in range(len(pub_data)) if pub_data[i][3] == 1]\n",
        "nonmember_indices = [i for i in range(len(pub_data)) if pub_data[i][3] == 0]\n",
        "\n",
        "random.shuffle(member_indices)\n",
        "random.shuffle(nonmember_indices)\n",
        "\n",
        "n_val = 8000\n",
        "train_mem = member_indices[:n_val]\n",
        "train_non = nonmember_indices[:n_val]\n",
        "\n",
        "val_mem = member_indices[n_val:]\n",
        "val_non = nonmember_indices[n_val:]\n",
        "\n",
        "\n",
        "train_indices = train_mem + train_non\n",
        "val_indices = val_mem + val_non\n",
        "y_val = np.array([1]*len(val_mem) + [0]*len(val_non))\n"
      ],
      "metadata": {
        "id": "mpSe8reBmO26"
      },
      "execution_count": 23,
      "outputs": []
    },
    {
      "cell_type": "code",
      "source": [
        "assert set(train_indices).isdisjoint(set(val_indices)), \"⚠️ Overlap in train/val sets!\""
      ],
      "metadata": {
        "id": "C4gxHiEV4_xc"
      },
      "execution_count": 24,
      "outputs": []
    },
    {
      "cell_type": "code",
      "source": [
        "# Extract once from all of pub_data to get member/nonmember embeddings\n",
        "_, all_deep, _, all_labels, _ = extract_features(model, pub_data, normalize)\n",
        "\n",
        "member_vec = all_deep[all_labels == 1].mean(axis=0, keepdims=True)\n",
        "nonmember_vec = all_deep[all_labels == 0].mean(axis=0, keepdims=True)\n"
      ],
      "metadata": {
        "id": "ERwxNSjWLei5"
      },
      "execution_count": 25,
      "outputs": []
    },
    {
      "cell_type": "code",
      "source": [
        "from torch.utils.data import Subset\n",
        "\n",
        "# Subsets\n",
        "train_subset = Subset(pub_data, train_indices)\n",
        "val_subset = Subset(pub_data, val_indices)\n",
        "\n",
        "# Feature extraction (with cosine sim + logits)\n",
        "X_train_eng, X_train_deep, X_train_logits, y_train, _ = extract_features(model, train_subset, normalize, member_mean_vec=member_vec, nonmember_mean_vec=nonmember_vec)\n",
        "\n",
        "X_val_eng, X_val_deep, X_val_logits, y_val, _ = extract_features(model, val_subset, normalize, member_mean_vec=member_vec, nonmember_mean_vec=nonmember_vec)"
      ],
      "metadata": {
        "id": "koFFz0TJLn0z"
      },
      "execution_count": 26,
      "outputs": []
    },
    {
      "cell_type": "code",
      "source": [
        "pca = PCA(n_components=64, random_state=42)\n",
        "X_train_pca = pca.fit_transform(X_train_deep)\n",
        "X_val_pca = pca.transform(X_val_deep)\n"
      ],
      "metadata": {
        "id": "6If21jDqLrIE"
      },
      "execution_count": 27,
      "outputs": []
    },
    {
      "cell_type": "code",
      "source": [
        "X_train_final = np.concatenate([X_train_eng, X_train_pca, X_train_logits], axis=1)\n",
        "X_val_final = np.concatenate([X_val_eng, X_val_pca, X_val_logits], axis=1)\n"
      ],
      "metadata": {
        "id": "qZ4LOu9-Lu0t"
      },
      "execution_count": 28,
      "outputs": []
    },
    {
      "cell_type": "code",
      "source": [
        "xgb_clf.fit(X_train_final, y_train)\n",
        "val_scores = xgb_clf.predict_proba(X_val_final)[:, 1]"
      ],
      "metadata": {
        "id": "_ZBPlqMgmjY6"
      },
      "execution_count": 29,
      "outputs": []
    },
    {
      "cell_type": "code",
      "source": [
        "\n",
        "fpr, tpr, _ = roc_curve(y_val, val_scores)\n",
        "tpr_at_fpr_005 = max([t for f, t in zip(fpr, tpr) if f <= 0.05])\n",
        "auc = roc_auc_score(y_val, val_scores)\n",
        "\n",
        "print(f\"Validation — AUC: {auc:.4f}, TPR@FPR=0.05: {tpr_at_fpr_005:.4f}\")\n"
      ],
      "metadata": {
        "colab": {
          "base_uri": "https://localhost:8080/"
        },
        "id": "K4se3DsMmd8w",
        "outputId": "e6b56579-0e05-4b57-cade-75b60a887eef"
      },
      "execution_count": 30,
      "outputs": [
        {
          "output_type": "stream",
          "name": "stdout",
          "text": [
            "Validation — AUC: 0.6683, TPR@FPR=0.05: 0.1385\n"
          ]
        }
      ]
    }
  ]
}